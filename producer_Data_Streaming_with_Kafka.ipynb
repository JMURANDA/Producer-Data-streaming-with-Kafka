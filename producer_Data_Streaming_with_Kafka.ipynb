{
  "nbformat": 4,
  "nbformat_minor": 0,
  "metadata": {
    "colab": {
      "provenance": []
    },
    "kernelspec": {
      "name": "python3",
      "display_name": "Python 3"
    },
    "language_info": {
      "name": "python"
    }
  },
  "cells": [
    {
      "cell_type": "markdown",
      "source": [
        "Producer "
      ],
      "metadata": {
        "id": "zY74CZVk-P3L"
      }
    },
    {
      "cell_type": "code",
      "source": [
        "!pip install confluent-kafka"
      ],
      "metadata": {
        "colab": {
          "base_uri": "https://localhost:8080/"
        },
        "id": "r7WopoeQ6ceu",
        "outputId": "3b6d51c4-486f-43b5-a8ba-e6d0b87b29a4"
      },
      "execution_count": 9,
      "outputs": [
        {
          "output_type": "stream",
          "name": "stdout",
          "text": [
            "Looking in indexes: https://pypi.org/simple, https://us-python.pkg.dev/colab-wheels/public/simple/\n",
            "Requirement already satisfied: confluent-kafka in /usr/local/lib/python3.10/dist-packages (2.1.1)\n"
          ]
        }
      ]
    },
    {
      "cell_type": "code",
      "source": [
        "\n",
        "from confluent_kafka import Producer\n",
        "import json\n",
        "\n",
        "conf = {\n",
        "    'bootstrap.servers': 'pkc-6ojv2.us-west4.gcp.confluent.cloud:9092',\n",
        "    'security.protocol': 'SASL_SSL',\n",
        "    'sasl.mechanism': 'PLAIN',\n",
        "    'sasl.username': 'NV4PDLB3F6DUEKBR',\n",
        "    'sasl.password': '8toQ5+DrpuiHS3UiPHT37Jb3h3/gzCPAsCCDQPs3ihHhJmoNfjQzvzZTUbDqvGMi',\n",
        "    'group.id': 'telecoms'\n",
        "}\n",
        "\n",
        "producer = Producer(conf)\n",
        "\n",
        "topic = 'topic_0'\n",
        "\n",
        "data = {\n",
        "    \"transaction_id\": \"12345\",\n",
        "    \"sender_phone_number\": \"256777123456\",\n",
        "    \"receiver_phone_number\": \"256772987654\",\n",
        "    \"transaction_amount\": 100000,\n",
        "    \"transaction_time\": \"2023-04-19 12:00:00\"\n",
        "}\n",
        "\n",
        "producer.produce(topic, value=json.dumps(data).encode('utf-8'))\n",
        "\n",
        "producer.flush()\n",
        "\n"
      ],
      "metadata": {
        "colab": {
          "base_uri": "https://localhost:8080/"
        },
        "id": "4auHPWrL4x71",
        "outputId": "970f152f-e347-4566-9d9d-dce22a579129"
      },
      "execution_count": 10,
      "outputs": [
        {
          "output_type": "execute_result",
          "data": {
            "text/plain": [
              "0"
            ]
          },
          "metadata": {},
          "execution_count": 10
        }
      ]
    }
  ]
}